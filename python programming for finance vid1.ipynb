{
 "cells": [
  {
   "cell_type": "code",
   "execution_count": 11,
   "metadata": {},
   "outputs": [],
   "source": [
    "import datetime as dt\n",
    "import matplotlib.pyplot as plt\n",
    "from matplotlib import style\n",
    "import pandas as pd\n",
    "import pandas_datareader.data as web"
   ]
  },
  {
   "cell_type": "code",
   "execution_count": 12,
   "metadata": {},
   "outputs": [],
   "source": [
    "style.use('ggplot') #the style of our graphs"
   ]
  },
  {
   "cell_type": "code",
   "execution_count": 13,
   "metadata": {},
   "outputs": [],
   "source": [
    "start = dt.datetime(2000,1,1) # start date of the data (year,month,day)"
   ]
  },
  {
   "cell_type": "code",
   "execution_count": 14,
   "metadata": {},
   "outputs": [],
   "source": [
    "end = dt.datetime(2016,12,31) # end date of the data "
   ]
  },
  {
   "cell_type": "code",
   "execution_count": 15,
   "metadata": {},
   "outputs": [],
   "source": [
    "df = web.DataReader('TSLA','yahoo',start,end) #  df means dataframe (e.g. like a spreadsheet), coming from web.DataReader .... ticker for company, data coming from yahoo, from start to end specified above"
   ]
  },
  {
   "cell_type": "code",
   "execution_count": 16,
   "metadata": {},
   "outputs": [
    {
     "name": "stdout",
     "output_type": "stream",
     "text": [
      "             High    Low   Open  Close    Volume  Adj Close\n",
      "Date                                                       \n",
      "2010-06-29  5.000  3.508  3.800  4.778  93831500      4.778\n",
      "2010-06-30  6.084  4.660  5.158  4.766  85935500      4.766\n",
      "2010-07-01  5.184  4.054  5.000  4.392  41094000      4.392\n",
      "2010-07-02  4.620  3.742  4.600  3.840  25699000      3.840\n",
      "2010-07-06  4.000  3.166  4.000  3.222  34334500      3.222\n"
     ]
    }
   ],
   "source": [
    "print(df.head()) # .head prints the first 5 rows of the data"
   ]
  },
  {
   "cell_type": "code",
   "execution_count": 20,
   "metadata": {},
   "outputs": [
    {
     "name": "stdout",
     "output_type": "stream",
     "text": [
      "                 High        Low       Open      Close    Volume  Adj Close\n",
      "Date                                                                       \n",
      "2016-12-23  42.689999  41.542000  41.599998  42.667999  23352500  42.667999\n",
      "2016-12-27  44.450001  42.883999  42.976002  43.905998  29578500  43.905998\n",
      "2016-12-28  44.759998  43.439999  44.306000  43.948002  18912500  43.948002\n",
      "2016-12-29  43.840000  42.824001  43.712002  42.936001  20225000  42.936001\n",
      "2016-12-30  43.500000  42.335999  43.259998  42.737999  23213000  42.737999\n"
     ]
    }
   ],
   "source": [
    "print(df.tail()) # .tail prints the last 5 rows of data"
   ]
  },
  {
   "cell_type": "code",
   "execution_count": null,
   "metadata": {},
   "outputs": [],
   "source": []
  }
 ],
 "metadata": {
  "kernelspec": {
   "display_name": "Python 3",
   "language": "python",
   "name": "python3"
  },
  "language_info": {
   "codemirror_mode": {
    "name": "ipython",
    "version": 3
   },
   "file_extension": ".py",
   "mimetype": "text/x-python",
   "name": "python",
   "nbconvert_exporter": "python",
   "pygments_lexer": "ipython3",
   "version": "3.8.3"
  }
 },
 "nbformat": 4,
 "nbformat_minor": 4
}
